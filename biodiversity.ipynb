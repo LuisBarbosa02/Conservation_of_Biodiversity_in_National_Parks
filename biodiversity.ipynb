{
 "cells": [
  {
   "cell_type": "markdown",
   "id": "20134ba6",
   "metadata": {},
   "source": [
    "# Conservation of Biodiversity in National Parks"
   ]
  },
  {
   "cell_type": "markdown",
   "id": "32266590",
   "metadata": {},
   "source": [
    "### Introduction"
   ]
  },
  {
   "cell_type": "markdown",
   "id": "68bdb740",
   "metadata": {},
   "source": [
    "Questions that we want to answer:\n",
    "\n",
    "- What's the distribution of conservation status for protected and unprotected species?\n",
    "- How many different species are listed?\n",
    "- Which category it's the most protected and which is the least protected?\n",
    "- What's the conservation status for the most protected category?\n",
    "- How many times the most protected category was spotted at a park?"
   ]
  },
  {
   "cell_type": "markdown",
   "id": "79b7de3c",
   "metadata": {},
   "source": [
    "### Importing necessary libraries and files:"
   ]
  },
  {
   "cell_type": "code",
   "execution_count": 1,
   "id": "a726679e",
   "metadata": {},
   "outputs": [],
   "source": [
    "import pandas as pd\n",
    "import numpy as np\n",
    "import matplotlib.pyplot as plt\n",
    "import seaborn as sns"
   ]
  },
  {
   "cell_type": "code",
   "execution_count": 2,
   "id": "9844d08b",
   "metadata": {},
   "outputs": [],
   "source": [
    "species_info = pd.read_csv('species_info.csv')\n",
    "observations = pd.read_csv('observations.csv')"
   ]
  },
  {
   "cell_type": "markdown",
   "id": "fc10f6fe",
   "metadata": {},
   "source": [
    "### Observing the structure of the datasets:"
   ]
  },
  {
   "cell_type": "markdown",
   "id": "82bedf7b",
   "metadata": {},
   "source": [
    "#### \"species_info\" dataset:"
   ]
  },
  {
   "cell_type": "markdown",
   "id": "2c69f6da",
   "metadata": {},
   "source": [
    "Looking at the rows:"
   ]
  },
  {
   "cell_type": "code",
   "execution_count": 3,
   "id": "0118e9d5",
   "metadata": {},
   "outputs": [
    {
     "data": {
      "text/html": [
       "<div>\n",
       "<style scoped>\n",
       "    .dataframe tbody tr th:only-of-type {\n",
       "        vertical-align: middle;\n",
       "    }\n",
       "\n",
       "    .dataframe tbody tr th {\n",
       "        vertical-align: top;\n",
       "    }\n",
       "\n",
       "    .dataframe thead th {\n",
       "        text-align: right;\n",
       "    }\n",
       "</style>\n",
       "<table border=\"1\" class=\"dataframe\">\n",
       "  <thead>\n",
       "    <tr style=\"text-align: right;\">\n",
       "      <th></th>\n",
       "      <th>category</th>\n",
       "      <th>scientific_name</th>\n",
       "      <th>common_names</th>\n",
       "      <th>conservation_status</th>\n",
       "    </tr>\n",
       "  </thead>\n",
       "  <tbody>\n",
       "    <tr>\n",
       "      <th>886</th>\n",
       "      <td>Vascular Plant</td>\n",
       "      <td>Packera obovata</td>\n",
       "      <td>Roundleaf Ragwort</td>\n",
       "      <td>NaN</td>\n",
       "    </tr>\n",
       "    <tr>\n",
       "      <th>788</th>\n",
       "      <td>Vascular Plant</td>\n",
       "      <td>Doellingeria infirma</td>\n",
       "      <td>Cornel-Leaf Whitetop</td>\n",
       "      <td>NaN</td>\n",
       "    </tr>\n",
       "    <tr>\n",
       "      <th>4173</th>\n",
       "      <td>Vascular Plant</td>\n",
       "      <td>Achnatherum richardsonii</td>\n",
       "      <td>Richardson Needlegrass, Richardson's Needlegrass</td>\n",
       "      <td>NaN</td>\n",
       "    </tr>\n",
       "    <tr>\n",
       "      <th>1421</th>\n",
       "      <td>Vascular Plant</td>\n",
       "      <td>Betula lenta</td>\n",
       "      <td>Black Or Sweet Birch, Sweet Birch</td>\n",
       "      <td>NaN</td>\n",
       "    </tr>\n",
       "    <tr>\n",
       "      <th>4380</th>\n",
       "      <td>Vascular Plant</td>\n",
       "      <td>Potentilla hippiana var. hippiana</td>\n",
       "      <td>Woolly Cinquefoil</td>\n",
       "      <td>NaN</td>\n",
       "    </tr>\n",
       "  </tbody>\n",
       "</table>\n",
       "</div>"
      ],
      "text/plain": [
       "            category                    scientific_name  \\\n",
       "886   Vascular Plant                    Packera obovata   \n",
       "788   Vascular Plant               Doellingeria infirma   \n",
       "4173  Vascular Plant           Achnatherum richardsonii   \n",
       "1421  Vascular Plant                       Betula lenta   \n",
       "4380  Vascular Plant  Potentilla hippiana var. hippiana   \n",
       "\n",
       "                                          common_names conservation_status  \n",
       "886                                  Roundleaf Ragwort                 NaN  \n",
       "788                               Cornel-Leaf Whitetop                 NaN  \n",
       "4173  Richardson Needlegrass, Richardson's Needlegrass                 NaN  \n",
       "1421                 Black Or Sweet Birch, Sweet Birch                 NaN  \n",
       "4380                                 Woolly Cinquefoil                 NaN  "
      ]
     },
     "execution_count": 3,
     "metadata": {},
     "output_type": "execute_result"
    }
   ],
   "source": [
    "species_info.sample(n=5)"
   ]
  },
  {
   "cell_type": "markdown",
   "id": "b76d8323",
   "metadata": {},
   "source": [
    "Structure of the dataset:"
   ]
  },
  {
   "cell_type": "code",
   "execution_count": 4,
   "id": "da8feb7d",
   "metadata": {},
   "outputs": [
    {
     "name": "stdout",
     "output_type": "stream",
     "text": [
      "<class 'pandas.core.frame.DataFrame'>\n",
      "RangeIndex: 5824 entries, 0 to 5823\n",
      "Data columns (total 4 columns):\n",
      " #   Column               Non-Null Count  Dtype \n",
      "---  ------               --------------  ----- \n",
      " 0   category             5824 non-null   object\n",
      " 1   scientific_name      5824 non-null   object\n",
      " 2   common_names         5824 non-null   object\n",
      " 3   conservation_status  191 non-null    object\n",
      "dtypes: object(4)\n",
      "memory usage: 182.1+ KB\n"
     ]
    }
   ],
   "source": [
    "species_info.info()"
   ]
  },
  {
   "cell_type": "markdown",
   "id": "119460f8",
   "metadata": {},
   "source": [
    "#### \"observations\" dataset:"
   ]
  },
  {
   "cell_type": "markdown",
   "id": "688ba8d2",
   "metadata": {},
   "source": [
    "Looking at the rows:"
   ]
  },
  {
   "cell_type": "code",
   "execution_count": 5,
   "id": "3ae50937",
   "metadata": {},
   "outputs": [
    {
     "data": {
      "text/html": [
       "<div>\n",
       "<style scoped>\n",
       "    .dataframe tbody tr th:only-of-type {\n",
       "        vertical-align: middle;\n",
       "    }\n",
       "\n",
       "    .dataframe tbody tr th {\n",
       "        vertical-align: top;\n",
       "    }\n",
       "\n",
       "    .dataframe thead th {\n",
       "        text-align: right;\n",
       "    }\n",
       "</style>\n",
       "<table border=\"1\" class=\"dataframe\">\n",
       "  <thead>\n",
       "    <tr style=\"text-align: right;\">\n",
       "      <th></th>\n",
       "      <th>scientific_name</th>\n",
       "      <th>park_name</th>\n",
       "      <th>observations</th>\n",
       "    </tr>\n",
       "  </thead>\n",
       "  <tbody>\n",
       "    <tr>\n",
       "      <th>10483</th>\n",
       "      <td>Lilium lancifolium</td>\n",
       "      <td>Yellowstone National Park</td>\n",
       "      <td>261</td>\n",
       "    </tr>\n",
       "    <tr>\n",
       "      <th>4920</th>\n",
       "      <td>Impatiens pallida</td>\n",
       "      <td>Yosemite National Park</td>\n",
       "      <td>130</td>\n",
       "    </tr>\n",
       "    <tr>\n",
       "      <th>14158</th>\n",
       "      <td>Carex debilis var. debilis</td>\n",
       "      <td>Great Smoky Mountains National Park</td>\n",
       "      <td>90</td>\n",
       "    </tr>\n",
       "    <tr>\n",
       "      <th>14590</th>\n",
       "      <td>Corallorrhiza odontorhiza</td>\n",
       "      <td>Yosemite National Park</td>\n",
       "      <td>139</td>\n",
       "    </tr>\n",
       "    <tr>\n",
       "      <th>14732</th>\n",
       "      <td>Campanula rotundifolia</td>\n",
       "      <td>Yellowstone National Park</td>\n",
       "      <td>270</td>\n",
       "    </tr>\n",
       "  </tbody>\n",
       "</table>\n",
       "</div>"
      ],
      "text/plain": [
       "                  scientific_name                            park_name  \\\n",
       "10483          Lilium lancifolium            Yellowstone National Park   \n",
       "4920            Impatiens pallida               Yosemite National Park   \n",
       "14158  Carex debilis var. debilis  Great Smoky Mountains National Park   \n",
       "14590   Corallorrhiza odontorhiza               Yosemite National Park   \n",
       "14732      Campanula rotundifolia            Yellowstone National Park   \n",
       "\n",
       "       observations  \n",
       "10483           261  \n",
       "4920            130  \n",
       "14158            90  \n",
       "14590           139  \n",
       "14732           270  "
      ]
     },
     "execution_count": 5,
     "metadata": {},
     "output_type": "execute_result"
    }
   ],
   "source": [
    "observations.sample(n=5)"
   ]
  },
  {
   "cell_type": "markdown",
   "id": "3fe5ec44",
   "metadata": {},
   "source": [
    "Structure of the dataset:"
   ]
  },
  {
   "cell_type": "code",
   "execution_count": 6,
   "id": "4ff1ffb1",
   "metadata": {},
   "outputs": [
    {
     "name": "stdout",
     "output_type": "stream",
     "text": [
      "<class 'pandas.core.frame.DataFrame'>\n",
      "RangeIndex: 23296 entries, 0 to 23295\n",
      "Data columns (total 3 columns):\n",
      " #   Column           Non-Null Count  Dtype \n",
      "---  ------           --------------  ----- \n",
      " 0   scientific_name  23296 non-null  object\n",
      " 1   park_name        23296 non-null  object\n",
      " 2   observations     23296 non-null  int64 \n",
      "dtypes: int64(1), object(2)\n",
      "memory usage: 546.1+ KB\n"
     ]
    }
   ],
   "source": [
    "observations.info()"
   ]
  },
  {
   "cell_type": "markdown",
   "id": "a4955322",
   "metadata": {},
   "source": [
    "### Exploring the data in the datasets:"
   ]
  },
  {
   "cell_type": "markdown",
   "id": "0c881601",
   "metadata": {},
   "source": [
    "#### \"species_info\" dataset:"
   ]
  },
  {
   "cell_type": "markdown",
   "id": "28e522d3",
   "metadata": {},
   "source": [
    "Number of different species:"
   ]
  },
  {
   "cell_type": "code",
   "execution_count": 7,
   "id": "5ee8c686",
   "metadata": {},
   "outputs": [
    {
     "data": {
      "text/plain": [
       "5541"
      ]
     },
     "execution_count": 7,
     "metadata": {},
     "output_type": "execute_result"
    }
   ],
   "source": [
    "species_info.scientific_name.nunique()"
   ]
  },
  {
   "cell_type": "markdown",
   "id": "4d687117",
   "metadata": {},
   "source": [
    "Which and how many categories there are:"
   ]
  },
  {
   "cell_type": "code",
   "execution_count": 8,
   "id": "4f0a31cf",
   "metadata": {},
   "outputs": [
    {
     "data": {
      "text/html": [
       "<div>\n",
       "<style scoped>\n",
       "    .dataframe tbody tr th:only-of-type {\n",
       "        vertical-align: middle;\n",
       "    }\n",
       "\n",
       "    .dataframe tbody tr th {\n",
       "        vertical-align: top;\n",
       "    }\n",
       "\n",
       "    .dataframe thead th {\n",
       "        text-align: right;\n",
       "    }\n",
       "</style>\n",
       "<table border=\"1\" class=\"dataframe\">\n",
       "  <thead>\n",
       "    <tr style=\"text-align: right;\">\n",
       "      <th></th>\n",
       "      <th>category</th>\n",
       "      <th>different_species</th>\n",
       "      <th>percentage</th>\n",
       "    </tr>\n",
       "  </thead>\n",
       "  <tbody>\n",
       "    <tr>\n",
       "      <th>6</th>\n",
       "      <td>Vascular Plant</td>\n",
       "      <td>4262</td>\n",
       "      <td>76.917524</td>\n",
       "    </tr>\n",
       "    <tr>\n",
       "      <th>1</th>\n",
       "      <td>Bird</td>\n",
       "      <td>488</td>\n",
       "      <td>8.807075</td>\n",
       "    </tr>\n",
       "    <tr>\n",
       "      <th>4</th>\n",
       "      <td>Nonvascular Plant</td>\n",
       "      <td>333</td>\n",
       "      <td>6.009746</td>\n",
       "    </tr>\n",
       "    <tr>\n",
       "      <th>3</th>\n",
       "      <td>Mammal</td>\n",
       "      <td>176</td>\n",
       "      <td>3.176322</td>\n",
       "    </tr>\n",
       "    <tr>\n",
       "      <th>2</th>\n",
       "      <td>Fish</td>\n",
       "      <td>125</td>\n",
       "      <td>2.255910</td>\n",
       "    </tr>\n",
       "    <tr>\n",
       "      <th>0</th>\n",
       "      <td>Amphibian</td>\n",
       "      <td>79</td>\n",
       "      <td>1.425735</td>\n",
       "    </tr>\n",
       "    <tr>\n",
       "      <th>5</th>\n",
       "      <td>Reptile</td>\n",
       "      <td>78</td>\n",
       "      <td>1.407688</td>\n",
       "    </tr>\n",
       "  </tbody>\n",
       "</table>\n",
       "</div>"
      ],
      "text/plain": [
       "            category  different_species  percentage\n",
       "6     Vascular Plant               4262   76.917524\n",
       "1               Bird                488    8.807075\n",
       "4  Nonvascular Plant                333    6.009746\n",
       "3             Mammal                176    3.176322\n",
       "2               Fish                125    2.255910\n",
       "0          Amphibian                 79    1.425735\n",
       "5            Reptile                 78    1.407688"
      ]
     },
     "execution_count": 8,
     "metadata": {},
     "output_type": "execute_result"
    }
   ],
   "source": [
    "species_info_categories = species_info.groupby('category').scientific_name.nunique()\\\n",
    "    .reset_index()\\\n",
    "    .sort_values(by='scientific_name', ascending=False)\n",
    "\n",
    "species_info_categories.columns = ['category', 'different_species']\n",
    "species_info_categories['percentage'] = species_info_categories.different_species / (species_info_categories.different_species.sum()) * 100\n",
    "\n",
    "species_info_categories"
   ]
  },
  {
   "cell_type": "markdown",
   "id": "edf9030f",
   "metadata": {},
   "source": [
    "The Plants, Vascular and no Vascular, are the categories that appears the most, with them beeing the whole majority of the different species."
   ]
  },
  {
   "cell_type": "markdown",
   "id": "b337034d",
   "metadata": {},
   "source": [
    "Which and how many conservation statuses there are:"
   ]
  },
  {
   "cell_type": "code",
   "execution_count": 9,
   "id": "b3241566",
   "metadata": {},
   "outputs": [
    {
     "data": {
      "text/html": [
       "<div>\n",
       "<style scoped>\n",
       "    .dataframe tbody tr th:only-of-type {\n",
       "        vertical-align: middle;\n",
       "    }\n",
       "\n",
       "    .dataframe tbody tr th {\n",
       "        vertical-align: top;\n",
       "    }\n",
       "\n",
       "    .dataframe thead th {\n",
       "        text-align: right;\n",
       "    }\n",
       "</style>\n",
       "<table border=\"1\" class=\"dataframe\">\n",
       "  <thead>\n",
       "    <tr style=\"text-align: right;\">\n",
       "      <th></th>\n",
       "      <th>conservation_status</th>\n",
       "      <th>count</th>\n",
       "      <th>percentage</th>\n",
       "    </tr>\n",
       "  </thead>\n",
       "  <tbody>\n",
       "    <tr>\n",
       "      <th>0</th>\n",
       "      <td>Unprotected</td>\n",
       "      <td>5633</td>\n",
       "      <td>96.720467</td>\n",
       "    </tr>\n",
       "    <tr>\n",
       "      <th>1</th>\n",
       "      <td>Species of Concern</td>\n",
       "      <td>161</td>\n",
       "      <td>2.764423</td>\n",
       "    </tr>\n",
       "    <tr>\n",
       "      <th>2</th>\n",
       "      <td>Endangered</td>\n",
       "      <td>16</td>\n",
       "      <td>0.274725</td>\n",
       "    </tr>\n",
       "    <tr>\n",
       "      <th>3</th>\n",
       "      <td>Threatened</td>\n",
       "      <td>10</td>\n",
       "      <td>0.171703</td>\n",
       "    </tr>\n",
       "    <tr>\n",
       "      <th>4</th>\n",
       "      <td>In Recovery</td>\n",
       "      <td>4</td>\n",
       "      <td>0.068681</td>\n",
       "    </tr>\n",
       "  </tbody>\n",
       "</table>\n",
       "</div>"
      ],
      "text/plain": [
       "  conservation_status  count  percentage\n",
       "0         Unprotected   5633   96.720467\n",
       "1  Species of Concern    161    2.764423\n",
       "2          Endangered     16    0.274725\n",
       "3          Threatened     10    0.171703\n",
       "4         In Recovery      4    0.068681"
      ]
     },
     "execution_count": 9,
     "metadata": {},
     "output_type": "execute_result"
    }
   ],
   "source": [
    "species_info_conservation = species_info.conservation_status.value_counts(dropna=False)\\\n",
    "                                                            .reset_index()\\\n",
    "                                                            .rename(columns={'index': 'conservation_status', 'conservation_status': 'count'})\n",
    "species_info_conservation['percentage'] = species_info_conservation['count'] / species_info_conservation['count'].sum() * 100\n",
    "species_info_conservation.at[0, 'conservation_status'] = 'Unprotected'\n",
    "\n",
    "species_info_conservation"
   ]
  },
  {
   "cell_type": "markdown",
   "id": "ee06be79",
   "metadata": {},
   "source": [
    "Most of the species aren't in any kind of danger."
   ]
  },
  {
   "cell_type": "markdown",
   "id": "06c66b16",
   "metadata": {},
   "source": [
    "Conservation status for the endangered species:"
   ]
  },
  {
   "cell_type": "code",
   "execution_count": 10,
   "id": "b981471e",
   "metadata": {},
   "outputs": [
    {
     "data": {
      "text/html": [
       "<div>\n",
       "<style scoped>\n",
       "    .dataframe tbody tr th:only-of-type {\n",
       "        vertical-align: middle;\n",
       "    }\n",
       "\n",
       "    .dataframe tbody tr th {\n",
       "        vertical-align: top;\n",
       "    }\n",
       "\n",
       "    .dataframe thead th {\n",
       "        text-align: right;\n",
       "    }\n",
       "</style>\n",
       "<table border=\"1\" class=\"dataframe\">\n",
       "  <thead>\n",
       "    <tr style=\"text-align: right;\">\n",
       "      <th></th>\n",
       "      <th>conservation_status</th>\n",
       "      <th>count</th>\n",
       "      <th>percentage</th>\n",
       "    </tr>\n",
       "  </thead>\n",
       "  <tbody>\n",
       "    <tr>\n",
       "      <th>0</th>\n",
       "      <td>Species of Concern</td>\n",
       "      <td>161</td>\n",
       "      <td>84.293194</td>\n",
       "    </tr>\n",
       "    <tr>\n",
       "      <th>1</th>\n",
       "      <td>Endangered</td>\n",
       "      <td>16</td>\n",
       "      <td>8.376963</td>\n",
       "    </tr>\n",
       "    <tr>\n",
       "      <th>2</th>\n",
       "      <td>Threatened</td>\n",
       "      <td>10</td>\n",
       "      <td>5.235602</td>\n",
       "    </tr>\n",
       "    <tr>\n",
       "      <th>3</th>\n",
       "      <td>In Recovery</td>\n",
       "      <td>4</td>\n",
       "      <td>2.094241</td>\n",
       "    </tr>\n",
       "  </tbody>\n",
       "</table>\n",
       "</div>"
      ],
      "text/plain": [
       "  conservation_status  count  percentage\n",
       "0  Species of Concern    161   84.293194\n",
       "1          Endangered     16    8.376963\n",
       "2          Threatened     10    5.235602\n",
       "3         In Recovery      4    2.094241"
      ]
     },
     "execution_count": 10,
     "metadata": {},
     "output_type": "execute_result"
    }
   ],
   "source": [
    "species_info_conservation = species_info.conservation_status.value_counts()\\\n",
    "                                                            .reset_index()\\\n",
    "                                                            .rename(columns={'index': 'conservation_status', 'conservation_status': 'count'})\n",
    "species_info_conservation['percentage'] = species_info_conservation['count'] / species_info_conservation['count'].sum() * 100\n",
    "\n",
    "species_info_conservation"
   ]
  },
  {
   "cell_type": "markdown",
   "id": "598f9ca8",
   "metadata": {},
   "source": [
    "Most of the species that are in any kind of danger, are in the least concern level of endangerment."
   ]
  },
  {
   "cell_type": "markdown",
   "id": "fa8da939",
   "metadata": {},
   "source": [
    "#### \"observations\" dataset:"
   ]
  },
  {
   "cell_type": "markdown",
   "id": "ad274444",
   "metadata": {},
   "source": [
    "Listed National Parks and their number of observations:"
   ]
  },
  {
   "cell_type": "code",
   "execution_count": 11,
   "id": "66ab435b",
   "metadata": {},
   "outputs": [
    {
     "data": {
      "text/html": [
       "<div>\n",
       "<style scoped>\n",
       "    .dataframe tbody tr th:only-of-type {\n",
       "        vertical-align: middle;\n",
       "    }\n",
       "\n",
       "    .dataframe tbody tr th {\n",
       "        vertical-align: top;\n",
       "    }\n",
       "\n",
       "    .dataframe thead th {\n",
       "        text-align: right;\n",
       "    }\n",
       "</style>\n",
       "<table border=\"1\" class=\"dataframe\">\n",
       "  <thead>\n",
       "    <tr style=\"text-align: right;\">\n",
       "      <th></th>\n",
       "      <th>park_name</th>\n",
       "      <th>observations</th>\n",
       "      <th>percentage</th>\n",
       "    </tr>\n",
       "  </thead>\n",
       "  <tbody>\n",
       "    <tr>\n",
       "      <th>0</th>\n",
       "      <td>Bryce National Park</td>\n",
       "      <td>576025</td>\n",
       "      <td>17.377688</td>\n",
       "    </tr>\n",
       "    <tr>\n",
       "      <th>1</th>\n",
       "      <td>Great Smoky Mountains National Park</td>\n",
       "      <td>431820</td>\n",
       "      <td>13.027270</td>\n",
       "    </tr>\n",
       "    <tr>\n",
       "      <th>2</th>\n",
       "      <td>Yellowstone National Park</td>\n",
       "      <td>1443562</td>\n",
       "      <td>43.549794</td>\n",
       "    </tr>\n",
       "    <tr>\n",
       "      <th>3</th>\n",
       "      <td>Yosemite National Park</td>\n",
       "      <td>863332</td>\n",
       "      <td>26.045248</td>\n",
       "    </tr>\n",
       "  </tbody>\n",
       "</table>\n",
       "</div>"
      ],
      "text/plain": [
       "                             park_name  observations  percentage\n",
       "0                  Bryce National Park        576025   17.377688\n",
       "1  Great Smoky Mountains National Park        431820   13.027270\n",
       "2            Yellowstone National Park       1443562   43.549794\n",
       "3               Yosemite National Park        863332   26.045248"
      ]
     },
     "execution_count": 11,
     "metadata": {},
     "output_type": "execute_result"
    }
   ],
   "source": [
    "observations_total = observations.groupby('park_name').observations.sum().reset_index()\n",
    "observations_total['percentage'] = observations_total.observations / observations_total.observations.sum() * 100\n",
    "\n",
    "observations_total"
   ]
  },
  {
   "cell_type": "markdown",
   "id": "ea02c416",
   "metadata": {},
   "source": [
    "There are 4 parks listed, the one with the most observations it's the Yellowstone."
   ]
  },
  {
   "cell_type": "markdown",
   "id": "1224303e",
   "metadata": {},
   "source": [
    "### Tidying the dataset:"
   ]
  },
  {
   "cell_type": "markdown",
   "id": "7a2c5b7f",
   "metadata": {},
   "source": [
    "Filling the NaN values at the \"conservation_status\" column:"
   ]
  },
  {
   "cell_type": "code",
   "execution_count": 12,
   "id": "134d3a79",
   "metadata": {},
   "outputs": [
    {
     "data": {
      "text/html": [
       "<div>\n",
       "<style scoped>\n",
       "    .dataframe tbody tr th:only-of-type {\n",
       "        vertical-align: middle;\n",
       "    }\n",
       "\n",
       "    .dataframe tbody tr th {\n",
       "        vertical-align: top;\n",
       "    }\n",
       "\n",
       "    .dataframe thead th {\n",
       "        text-align: right;\n",
       "    }\n",
       "</style>\n",
       "<table border=\"1\" class=\"dataframe\">\n",
       "  <thead>\n",
       "    <tr style=\"text-align: right;\">\n",
       "      <th></th>\n",
       "      <th>category</th>\n",
       "      <th>scientific_name</th>\n",
       "      <th>common_names</th>\n",
       "      <th>conservation_status</th>\n",
       "    </tr>\n",
       "  </thead>\n",
       "  <tbody>\n",
       "    <tr>\n",
       "      <th>5186</th>\n",
       "      <td>Vascular Plant</td>\n",
       "      <td>Trifolium microcephalum</td>\n",
       "      <td>Littlehead Clover, Smallhead Clover, Small-Hea...</td>\n",
       "      <td>Not Protected</td>\n",
       "    </tr>\n",
       "    <tr>\n",
       "      <th>3936</th>\n",
       "      <td>Vascular Plant</td>\n",
       "      <td>Mimulus guttatus</td>\n",
       "      <td>Common Monkeyflower, Seep Monkeyflower</td>\n",
       "      <td>Not Protected</td>\n",
       "    </tr>\n",
       "    <tr>\n",
       "      <th>5481</th>\n",
       "      <td>Vascular Plant</td>\n",
       "      <td>Carex lemmonii</td>\n",
       "      <td>Lemmon's Sedge</td>\n",
       "      <td>Not Protected</td>\n",
       "    </tr>\n",
       "    <tr>\n",
       "      <th>2474</th>\n",
       "      <td>Vascular Plant</td>\n",
       "      <td>Aronia melanocarpa</td>\n",
       "      <td>Black Chokeberry</td>\n",
       "      <td>Not Protected</td>\n",
       "    </tr>\n",
       "    <tr>\n",
       "      <th>634</th>\n",
       "      <td>Vascular Plant</td>\n",
       "      <td>Zizia trifoliata</td>\n",
       "      <td>Meadow Alexanders, Three-Leaved Golden Alexanders</td>\n",
       "      <td>Species of Concern</td>\n",
       "    </tr>\n",
       "  </tbody>\n",
       "</table>\n",
       "</div>"
      ],
      "text/plain": [
       "            category          scientific_name  \\\n",
       "5186  Vascular Plant  Trifolium microcephalum   \n",
       "3936  Vascular Plant         Mimulus guttatus   \n",
       "5481  Vascular Plant           Carex lemmonii   \n",
       "2474  Vascular Plant       Aronia melanocarpa   \n",
       "634   Vascular Plant         Zizia trifoliata   \n",
       "\n",
       "                                           common_names conservation_status  \n",
       "5186  Littlehead Clover, Smallhead Clover, Small-Hea...       Not Protected  \n",
       "3936             Common Monkeyflower, Seep Monkeyflower       Not Protected  \n",
       "5481                                     Lemmon's Sedge       Not Protected  \n",
       "2474                                   Black Chokeberry       Not Protected  \n",
       "634   Meadow Alexanders, Three-Leaved Golden Alexanders  Species of Concern  "
      ]
     },
     "execution_count": 12,
     "metadata": {},
     "output_type": "execute_result"
    }
   ],
   "source": [
    "species_info.conservation_status.fillna('Not Protected', inplace=True)\n",
    "species_info.sample(n=5)"
   ]
  },
  {
   "cell_type": "markdown",
   "id": "e96d2b78",
   "metadata": {},
   "source": [
    "### Analyzing the datasets:"
   ]
  },
  {
   "cell_type": "markdown",
   "id": "d45e54cc",
   "metadata": {},
   "source": [
    "Seeing each conservation statuses for each category:"
   ]
  },
  {
   "cell_type": "code",
   "execution_count": 13,
   "id": "76dd35a4",
   "metadata": {},
   "outputs": [
    {
     "data": {
      "text/html": [
       "<div>\n",
       "<style scoped>\n",
       "    .dataframe tbody tr th:only-of-type {\n",
       "        vertical-align: middle;\n",
       "    }\n",
       "\n",
       "    .dataframe tbody tr th {\n",
       "        vertical-align: top;\n",
       "    }\n",
       "\n",
       "    .dataframe thead th {\n",
       "        text-align: right;\n",
       "    }\n",
       "</style>\n",
       "<table border=\"1\" class=\"dataframe\">\n",
       "  <thead>\n",
       "    <tr style=\"text-align: right;\">\n",
       "      <th>category</th>\n",
       "      <th>Amphibian</th>\n",
       "      <th>Bird</th>\n",
       "      <th>Fish</th>\n",
       "      <th>Mammal</th>\n",
       "      <th>Nonvascular Plant</th>\n",
       "      <th>Reptile</th>\n",
       "      <th>Vascular Plant</th>\n",
       "    </tr>\n",
       "    <tr>\n",
       "      <th>conservation_status</th>\n",
       "      <th></th>\n",
       "      <th></th>\n",
       "      <th></th>\n",
       "      <th></th>\n",
       "      <th></th>\n",
       "      <th></th>\n",
       "      <th></th>\n",
       "    </tr>\n",
       "  </thead>\n",
       "  <tbody>\n",
       "    <tr>\n",
       "      <th>Endangered</th>\n",
       "      <td>1.0</td>\n",
       "      <td>4.0</td>\n",
       "      <td>3.0</td>\n",
       "      <td>7.0</td>\n",
       "      <td>NaN</td>\n",
       "      <td>NaN</td>\n",
       "      <td>1.0</td>\n",
       "    </tr>\n",
       "    <tr>\n",
       "      <th>In Recovery</th>\n",
       "      <td>NaN</td>\n",
       "      <td>3.0</td>\n",
       "      <td>NaN</td>\n",
       "      <td>1.0</td>\n",
       "      <td>NaN</td>\n",
       "      <td>NaN</td>\n",
       "      <td>NaN</td>\n",
       "    </tr>\n",
       "    <tr>\n",
       "      <th>Species of Concern</th>\n",
       "      <td>4.0</td>\n",
       "      <td>72.0</td>\n",
       "      <td>4.0</td>\n",
       "      <td>28.0</td>\n",
       "      <td>5.0</td>\n",
       "      <td>5.0</td>\n",
       "      <td>43.0</td>\n",
       "    </tr>\n",
       "    <tr>\n",
       "      <th>Threatened</th>\n",
       "      <td>2.0</td>\n",
       "      <td>NaN</td>\n",
       "      <td>4.0</td>\n",
       "      <td>2.0</td>\n",
       "      <td>NaN</td>\n",
       "      <td>NaN</td>\n",
       "      <td>2.0</td>\n",
       "    </tr>\n",
       "  </tbody>\n",
       "</table>\n",
       "</div>"
      ],
      "text/plain": [
       "category             Amphibian  Bird  Fish  Mammal  Nonvascular Plant  \\\n",
       "conservation_status                                                     \n",
       "Endangered                 1.0   4.0   3.0     7.0                NaN   \n",
       "In Recovery                NaN   3.0   NaN     1.0                NaN   \n",
       "Species of Concern         4.0  72.0   4.0    28.0                5.0   \n",
       "Threatened                 2.0   NaN   4.0     2.0                NaN   \n",
       "\n",
       "category             Reptile  Vascular Plant  \n",
       "conservation_status                           \n",
       "Endangered               NaN             1.0  \n",
       "In Recovery              NaN             NaN  \n",
       "Species of Concern       5.0            43.0  \n",
       "Threatened               NaN             2.0  "
      ]
     },
     "execution_count": 13,
     "metadata": {},
     "output_type": "execute_result"
    }
   ],
   "source": [
    "conservation_category = species_info[species_info.conservation_status != 'Not Protected']\\\n",
    "    .groupby(['conservation_status', 'category'])['common_names']\\\n",
    "    .count()\\\n",
    "    .unstack()\n",
    "\n",
    "conservation_category"
   ]
  },
  {
   "cell_type": "markdown",
   "id": "8e346dce",
   "metadata": {},
   "source": [
    "Some things we can take from this table:\n",
    "\n",
    "- The most endangered category it's the Mammals;\n",
    "- The Birds are the category that is recovering the most."
   ]
  },
  {
   "cell_type": "markdown",
   "id": "391a5e8d",
   "metadata": {},
   "source": [
    "How many species in each category are and aren't protected:"
   ]
  },
  {
   "cell_type": "code",
   "execution_count": 14,
   "id": "fe1fe9ed",
   "metadata": {},
   "outputs": [],
   "source": [
    "species_info['is_protected'] = species_info.conservation_status != 'Not Protected'"
   ]
  },
  {
   "cell_type": "code",
   "execution_count": 15,
   "id": "194ef2f2",
   "metadata": {},
   "outputs": [
    {
     "data": {
      "text/html": [
       "<div>\n",
       "<style scoped>\n",
       "    .dataframe tbody tr th:only-of-type {\n",
       "        vertical-align: middle;\n",
       "    }\n",
       "\n",
       "    .dataframe tbody tr th {\n",
       "        vertical-align: top;\n",
       "    }\n",
       "\n",
       "    .dataframe thead th {\n",
       "        text-align: right;\n",
       "    }\n",
       "</style>\n",
       "<table border=\"1\" class=\"dataframe\">\n",
       "  <thead>\n",
       "    <tr style=\"text-align: right;\">\n",
       "      <th></th>\n",
       "      <th>category</th>\n",
       "      <th>not_protected</th>\n",
       "      <th>protected</th>\n",
       "      <th>percentage_protected</th>\n",
       "    </tr>\n",
       "  </thead>\n",
       "  <tbody>\n",
       "    <tr>\n",
       "      <th>0</th>\n",
       "      <td>Amphibian</td>\n",
       "      <td>72</td>\n",
       "      <td>7</td>\n",
       "      <td>8.860759</td>\n",
       "    </tr>\n",
       "    <tr>\n",
       "      <th>1</th>\n",
       "      <td>Bird</td>\n",
       "      <td>413</td>\n",
       "      <td>75</td>\n",
       "      <td>15.368852</td>\n",
       "    </tr>\n",
       "    <tr>\n",
       "      <th>2</th>\n",
       "      <td>Fish</td>\n",
       "      <td>115</td>\n",
       "      <td>11</td>\n",
       "      <td>8.730159</td>\n",
       "    </tr>\n",
       "    <tr>\n",
       "      <th>3</th>\n",
       "      <td>Mammal</td>\n",
       "      <td>146</td>\n",
       "      <td>30</td>\n",
       "      <td>17.045455</td>\n",
       "    </tr>\n",
       "    <tr>\n",
       "      <th>4</th>\n",
       "      <td>Nonvascular Plant</td>\n",
       "      <td>328</td>\n",
       "      <td>5</td>\n",
       "      <td>1.501502</td>\n",
       "    </tr>\n",
       "    <tr>\n",
       "      <th>5</th>\n",
       "      <td>Reptile</td>\n",
       "      <td>73</td>\n",
       "      <td>5</td>\n",
       "      <td>6.410256</td>\n",
       "    </tr>\n",
       "    <tr>\n",
       "      <th>6</th>\n",
       "      <td>Vascular Plant</td>\n",
       "      <td>4216</td>\n",
       "      <td>46</td>\n",
       "      <td>1.079305</td>\n",
       "    </tr>\n",
       "  </tbody>\n",
       "</table>\n",
       "</div>"
      ],
      "text/plain": [
       "            category  not_protected  protected  percentage_protected\n",
       "0          Amphibian             72          7              8.860759\n",
       "1               Bird            413         75             15.368852\n",
       "2               Fish            115         11              8.730159\n",
       "3             Mammal            146         30             17.045455\n",
       "4  Nonvascular Plant            328          5              1.501502\n",
       "5            Reptile             73          5              6.410256\n",
       "6     Vascular Plant           4216         46              1.079305"
      ]
     },
     "execution_count": 15,
     "metadata": {},
     "output_type": "execute_result"
    }
   ],
   "source": [
    "category_number_protected = species_info.groupby(['category', 'is_protected'])\\\n",
    "    .scientific_name.nunique()\\\n",
    "    .unstack()\\\n",
    "    .reset_index()\n",
    "\n",
    "category_number_protected.columns = ['category', 'not_protected', 'protected']\n",
    "category_number_protected['percentage_protected'] = category_number_protected.protected / (category_number_protected.protected + category_number_protected.not_protected) * 100\n",
    "\n",
    "category_number_protected"
   ]
  },
  {
   "cell_type": "markdown",
   "id": "59ee7841",
   "metadata": {},
   "source": [
    "Even though the absolute number of the protected Birds and Vascular Plants are higher, the correct number to be considered it's the percentage, because what we want to know it's how much of the total it's protected. So, the right order is: The Mammals, with 17%, followed by the Birds, with 15%."
   ]
  },
  {
   "cell_type": "markdown",
   "id": "dbf70bb9",
   "metadata": {},
   "source": [
    "Conservation status for the Mammals:"
   ]
  },
  {
   "cell_type": "code",
   "execution_count": 24,
   "id": "9b0ac6f2",
   "metadata": {},
   "outputs": [
    {
     "data": {
      "text/html": [
       "<div>\n",
       "<style scoped>\n",
       "    .dataframe tbody tr th:only-of-type {\n",
       "        vertical-align: middle;\n",
       "    }\n",
       "\n",
       "    .dataframe tbody tr th {\n",
       "        vertical-align: top;\n",
       "    }\n",
       "\n",
       "    .dataframe thead th {\n",
       "        text-align: right;\n",
       "    }\n",
       "</style>\n",
       "<table border=\"1\" class=\"dataframe\">\n",
       "  <thead>\n",
       "    <tr style=\"text-align: right;\">\n",
       "      <th></th>\n",
       "      <th>conservation_status</th>\n",
       "      <th>count</th>\n",
       "      <th>percentage</th>\n",
       "    </tr>\n",
       "  </thead>\n",
       "  <tbody>\n",
       "    <tr>\n",
       "      <th>0</th>\n",
       "      <td>Not Protected</td>\n",
       "      <td>176</td>\n",
       "      <td>82.242991</td>\n",
       "    </tr>\n",
       "    <tr>\n",
       "      <th>1</th>\n",
       "      <td>Species of Concern</td>\n",
       "      <td>28</td>\n",
       "      <td>13.084112</td>\n",
       "    </tr>\n",
       "    <tr>\n",
       "      <th>2</th>\n",
       "      <td>Endangered</td>\n",
       "      <td>7</td>\n",
       "      <td>3.271028</td>\n",
       "    </tr>\n",
       "    <tr>\n",
       "      <th>3</th>\n",
       "      <td>Threatened</td>\n",
       "      <td>2</td>\n",
       "      <td>0.934579</td>\n",
       "    </tr>\n",
       "    <tr>\n",
       "      <th>4</th>\n",
       "      <td>In Recovery</td>\n",
       "      <td>1</td>\n",
       "      <td>0.467290</td>\n",
       "    </tr>\n",
       "  </tbody>\n",
       "</table>\n",
       "</div>"
      ],
      "text/plain": [
       "  conservation_status  count  percentage\n",
       "0       Not Protected    176   82.242991\n",
       "1  Species of Concern     28   13.084112\n",
       "2          Endangered      7    3.271028\n",
       "3          Threatened      2    0.934579\n",
       "4         In Recovery      1    0.467290"
      ]
     },
     "execution_count": 24,
     "metadata": {},
     "output_type": "execute_result"
    }
   ],
   "source": [
    "conservation_mammals = species_info[species_info.category == 'Mammal'].conservation_status.value_counts()\n",
    "conservation_mammals_df = conservation_mammals.reset_index().rename(columns={'index': 'conservation_status', 'conservation_status': 'count'})\n",
    "conservation_mammals_df['percentage'] = conservation_mammals_df['count'] / conservation_mammals_df['count'].sum() * 100\n",
    "\n",
    "conservation_mammals_df"
   ]
  },
  {
   "cell_type": "code",
   "execution_count": 26,
   "id": "6df575ec",
   "metadata": {},
   "outputs": [
    {
     "data": {
      "image/png": "[encoded data removed]",
      "text/plain": [
       "<Figure size 360x360 with 1 Axes>"
      ]
     },
     "metadata": {
      "needs_background": "light"
     },
     "output_type": "display_data"
    },
    {
     "data": {
      "text/plain": [
       "<Figure size 432x288 with 0 Axes>"
      ]
     },
     "metadata": {},
     "output_type": "display_data"
    }
   ],
   "source": [
    "sns.catplot(data=conservation_mammals_df, x='conservation_status', y='count', kind='bar')\n",
    "\n",
    "plt.title(\"Conservation Status of Mammals\")\n",
    "plt.ylabel(\"Frequency\")\n",
    "plt.xlabel(\"Conservation Status\")\n",
    "plt.xticks(rotation=15)\n",
    "\n",
    "plt.show()\n",
    "plt.clf()"
   ]
  },
  {
   "cell_type": "markdown",
   "id": "6a924a25",
   "metadata": {},
   "source": [
    "How many times the Mammals were spotted at each park"
   ]
  },
  {
   "cell_type": "code",
   "execution_count": 31,
   "id": "20626467",
   "metadata": {},
   "outputs": [
    {
     "data": {
      "text/plain": [
       "park_name\n",
       "Bryce National Park                    28830\n",
       "Great Smoky Mountains National Park    21056\n",
       "Yellowstone National Park              70701\n",
       "Yosemite National Park                 42533\n",
       "Name: observations, dtype: int64"
      ]
     },
     "execution_count": 31,
     "metadata": {},
     "output_type": "execute_result"
    }
   ],
   "source": [
    "observations_mammals = observations.merge(species_info[species_info.category == 'Mammal'])\\\n",
    "    .groupby('park_name').observations.sum()\n",
    "\n",
    "observations_mammals"
   ]
  },
  {
   "cell_type": "code",
   "execution_count": 38,
   "id": "3f649ff3",
   "metadata": {},
   "outputs": [
    {
     "data": {
      "image/png": "[encoded data removed]",
      "text/plain": [
       "<Figure size 432x288 with 1 Axes>"
      ]
     },
     "metadata": {
      "needs_background": "light"
     },
     "output_type": "display_data"
    },
    {
     "data": {
      "text/plain": [
       "<Figure size 432x288 with 0 Axes>"
      ]
     },
     "metadata": {},
     "output_type": "display_data"
    }
   ],
   "source": [
    "sns.barplot(x=observations_mammals, y=observations_mammals.index)\n",
    "\n",
    "plt.title(\"Mammals Spotted at Parks\")\n",
    "plt.ylabel('')\n",
    "plt.xlabel(\"Observations\")\n",
    "\n",
    "plt.show()\n",
    "plt.clf()"
   ]
  },
  {
   "cell_type": "markdown",
   "id": "bd481b0b",
   "metadata": {},
   "source": [
    "### Conclusion"
   ]
  },
  {
   "cell_type": "markdown",
   "id": "a9407d32",
   "metadata": {},
   "source": [
    "Answering the questions asked at the beginning:\n",
    "\n",
    "- What's the distribution of conservation status for protected and unprotected species?\n",
    "    - The vast majority of the species aren't protected (96.7%). The species that are in any kind of danger, are in the first level of concern (84% of the protected species).\n",
    "\n",
    "\n",
    "- How many different categories are listed and what can you tell about it's insights?\n",
    "    - There are 7 different categories: Plants (Vascular and Nonvascular), Birds, Mammals, Fishes, Amphibians and Reptiles;\n",
    "    - The predominant category it's the Plants, with them beeing 82.9% of the different species;\n",
    "    - The least predominant it's the Reptiles, with 1.40%.\n",
    "\n",
    "\n",
    "- Which category it's the most protected and which is the least protected?\n",
    "    - The Mammals it's the category most protected, 17% of the Mammals are beeing protected;\n",
    "    - The least protected category it's the Plants, 1% for the Vascular and 1.5% for Nonvascular.\n",
    "    \n",
    "\n",
    "- What's the conservation status for the most protected category?\n",
    "    - As said before, the Mammals are the most protected species.\n",
    "    - From least to most risk:\n",
    "        - Even though the Mammals it's the most protected category, 82.1% of the species isn't protected;\n",
    "        - \"Recovery\": 1 (0.4%)\n",
    "        - \"Concern\": 28 (13%);\n",
    "        - \"Threatened\": 2 (0.9%);\n",
    "        - \"Endangered\": 7 (3.2%)\n",
    " \n",
    "\n",
    "- How many times the most protected category was spotted at a park?\n",
    "    - The Mammals were spotted at all parks, with the most observations beeing in the Yellowstone."
   ]
  }
 ],
 "metadata": {
  "kernelspec": {
   "display_name": "Python 3 (ipykernel)",
   "language": "python",
   "name": "python3"
  },
  "language_info": {
   "codemirror_mode": {
    "name": "ipython",
    "version": 3
   },
   "file_extension": ".py",
   "mimetype": "text/x-python",
   "name": "python",
   "nbconvert_exporter": "python",
   "pygments_lexer": "ipython3",
   "version": "3.10.5"
  }
 },
 "nbformat": 4,
 "nbformat_minor": 5
}
